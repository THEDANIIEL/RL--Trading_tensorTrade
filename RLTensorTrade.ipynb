{
 "cells": [
  {
   "cell_type": "code",
   "execution_count": null,
   "id": "68f73010",
   "metadata": {},
   "outputs": [],
   "source": [
    "pip install git+https://github.com/notadamking/tensortrade.git\n",
    "\n",
    "\n",
    "#or\n",
    "#pip install git+https://github.com/notadamking/tensortrade.git#egg=tensortrade[tf,tensorforce,baselines,ccxt,ta,fbm] -U"
   ]
  },
  {
   "cell_type": "code",
   "execution_count": null,
   "id": "a67a100a",
   "metadata": {},
   "outputs": [],
   "source": [
    "#RL Gym Environment\n",
    "\n",
    "from tensortrade.environments import TradingEnvironment\n",
    "environment = TradingEnvironment(exchange=exchange,\n",
    "                                 action_scheme=action_scheme,\n",
    "                                 reward_scheme=reward_scheme,\n",
    "                                 feature_pipeline=feature_pipeline)"
   ]
  },
  {
   "cell_type": "code",
   "execution_count": null,
   "id": "b33ffb55",
   "metadata": {},
   "outputs": [],
   "source": [
    "#Exchanges\n",
    "\n",
    "#For live acoount\n",
    "# import ccxt\n",
    "# from tensortrade.exchanges.live import CCXTExchange\n",
    "# coinbase = ccxt.coinbasepro()\n",
    "# exchange = CCXTExchange(exchange=coinbase, base_instrument='USD')\n",
    "\n",
    "\n",
    "from tensortrade.exchanges.simulated import FBMExchange\n",
    "exchange = FBMExchange(base_instrument='BTC', timeframe='1h')"
   ]
  },
  {
   "cell_type": "code",
   "execution_count": null,
   "id": "bda4fd9d",
   "metadata": {},
   "outputs": [],
   "source": [
    "#Reading The Data\n",
    "\n",
    "import pandas as pd\n",
    "from tensortrade.exchanges.simulated import SimulatedExchange\n",
    "df = pd.read_csv('./data/btc_ohclv_1h.csv')\n",
    "exchange = SimulatedExchange(data_frame=df, base_instrument='USD')"
   ]
  },
  {
   "cell_type": "code",
   "execution_count": null,
   "id": "c0110879",
   "metadata": {},
   "outputs": [],
   "source": [
    "#Feature Pipelines\n",
    "\n",
    "\n",
    "from tensortrade.features import FeaturePipeline\n",
    "from tensortrade.features.scalers import MinMaxNormalizer\n",
    "from tensortrade.features.stationarity import FractionalDifference\n",
    "from tensortrade.features.indicators import SimpleMovingAverage\n",
    "price_columns = [\"open\", \"high\", \"low\", \"close\"]\n",
    "normalize_price = MinMaxNormalizer(price_columns)\n",
    "moving_averages = SimpleMovingAverage(price_columns)\n",
    "difference_all = FractionalDifference(difference_order=0.6)\n",
    "feature_pipeline = FeaturePipeline(steps=[normalize_price,\n",
    "                                          moving_averages,\n",
    "                                          difference_all])\n",
    "exchange.feature_pipeline = feature_pipeline"
   ]
  },
  {
   "cell_type": "code",
   "execution_count": null,
   "id": "3fe54d21",
   "metadata": {},
   "outputs": [],
   "source": [
    "#Action Schemes\n",
    "\n",
    "from tensortrade.actions import DiscreteActions\n",
    "action_scheme = DiscreteActions(n_actions=20,      \n",
    "                                instrument_symbol='BTC')"
   ]
  },
  {
   "cell_type": "code",
   "execution_count": null,
   "id": "fc1d0e40",
   "metadata": {},
   "outputs": [],
   "source": [
    "#Reward Schemes\n",
    "\n",
    "\n",
    "from tensortrade.rewards import SimpleProfit\n",
    "reward_scheme = SimpleProfit()"
   ]
  },
  {
   "cell_type": "code",
   "execution_count": null,
   "id": "a6106dfd",
   "metadata": {},
   "outputs": [],
   "source": [
    "#Learning Agents\n",
    "\n",
    "from stable_baselines.common.policies import MlpLnLstmPolicy\n",
    "from stable_baselines import PPO2\n",
    "model = PPO2\n",
    "policy = MlpLnLstmPolicy\n",
    "params = { \"learning_rate\": 1e-5 }\n",
    "agent = model(policy, environment, model_kwargs=params)"
   ]
  },
  {
   "cell_type": "code",
   "execution_count": null,
   "id": "6ac67126",
   "metadata": {},
   "outputs": [],
   "source": [
    "#Tensorforce\n",
    "\n",
    "from tensorforce.agents import Agent\n",
    "agent_spec = {\n",
    "    \"type\": \"ppo_agent\",\n",
    "    \"step_optimizer\": {\n",
    "        \"type\": \"adam\",\n",
    "        \"learning_rate\": 1e-4\n",
    "    },\n",
    "    \"discount\": 0.99,\n",
    "    \"likelihood_ratio_clipping\": 0.2,\n",
    "}\n",
    "network_spec = [\n",
    "    dict(type='dense', size=64, activation=\"tanh\"),\n",
    "    dict(type='dense', size=32, activation=\"tanh\")\n",
    "]\n",
    "agent = Agent.from_spec(spec=agent_spec,\n",
    "                        kwargs=dict(network=network_spec,\n",
    "                                    states=environment.states,\n",
    "                                    actions=environment.actions))"
   ]
  },
  {
   "cell_type": "code",
   "execution_count": null,
   "id": "cbd775c4",
   "metadata": {},
   "outputs": [],
   "source": [
    "#Trading Strategy\n",
    "\n",
    "from tensortrade.strategies import TensorforceTradingStrategy,\n",
    "                                   StableBaselinesTradingStrategy\n",
    "a_strategy = TensorforceTradingStrategy(environment=environment,\n",
    "                                        agent_spec=agent_spec,\n",
    "                                        network_spec=network_spec)\n",
    "b_strategy = StableBaselinesTradingStrategy(environment=environment,\n",
    "                                            model=PPO2,\n",
    "                                            policy=MlpLnLSTMPolicy)"
   ]
  },
  {
   "cell_type": "code",
   "execution_count": null,
   "id": "31629aca",
   "metadata": {},
   "outputs": [],
   "source": [
    "#Creating an Environment\n",
    "\n",
    "from tensortrade.exchanges.simulated import FBMExchange\n",
    "from tensortrade.features.scalers import MinMaxNormalizer\n",
    "from tensortrade.features.stationarity import FractionalDifference\n",
    "from tensortrade.features import FeaturePipeline\n",
    "from tensortrade.rewards import SimpleProfit\n",
    "from tensortrade.actions import DiscreteActions\n",
    "from tensortrade.environments import TradingEnvironment\n",
    "normalize_price = MinMaxNormalizer([\"open\", \"high\", \"low\", \"close\"])\n",
    "difference = FractionalDifference(difference_order=0.6)\n",
    "feature_pipeline = FeaturePipeline(steps=[normalize_price, \n",
    "                                          difference])\n",
    "exchange = FBMExchange(timeframe='1h',\n",
    "                       base_instrument='BTC',\n",
    "                       feature_pipeline=feature_pipeline)\n",
    "reward_scheme = SimpleProfit()\n",
    "action_scheme = DiscreteActions(n_actions=20, \n",
    "                                instrument_symbol='ETH/BTC')\n",
    "environment = TradingEnvironment(exchange=exchange,\n",
    "                                 action_scheme=action_scheme,\n",
    "                                 reward_scheme=reward_scheme,\n",
    "                                 feature_pipeline=feature_pipeline)"
   ]
  },
  {
   "cell_type": "code",
   "execution_count": null,
   "id": "822abb96",
   "metadata": {},
   "outputs": [],
   "source": [
    "#Defining the Agent\n",
    "\n",
    "from stable_baselines.common.policies import MlpLnLstmPolicy\n",
    "from stable_baselines import PPO2\n",
    "model = PPO2\n",
    "policy = MlpLnLstmPolicy\n",
    "params = { \"learning_rate\": 1e-5 }"
   ]
  },
  {
   "cell_type": "code",
   "execution_count": null,
   "id": "3b02f8da",
   "metadata": {},
   "outputs": [],
   "source": [
    "#Training a Strategy\n",
    "\n",
    "from tensortrade.strategies import StableBaselinesTradingStrategy\n",
    "strategy = StableBaselinesTradingStrategy(environment=environment,\n",
    "                                          model=model,\n",
    "                                          policy=policy,\n",
    "                                          model_kwargs=params)"
   ]
  },
  {
   "cell_type": "code",
   "execution_count": null,
   "id": "8eac125e",
   "metadata": {},
   "outputs": [],
   "source": [
    "performance = strategy.run(steps=100000,\n",
    "                           episode_callback=stop_early_callback)"
   ]
  },
  {
   "cell_type": "code",
   "execution_count": null,
   "id": "df30c625",
   "metadata": {},
   "outputs": [],
   "source": [
    "#Saving and Restoring\n",
    "\n",
    "strategy.save_agent(path=\"../agents/ppo_btc_1h\")\n",
    "\n",
    "#restore the agent from the file\n",
    "from tensortrade.strategies import StableBaselinesTradingStrategy\n",
    "strategy = StableBaselinesTradingStrategy(environment=environment,\n",
    "                                          model=model,\n",
    "                                          policy=policy,\n",
    "                                          model_kwargs=params)\n",
    "strategy.restore_agent(path=\"../agents/ppo_btc/1h\")"
   ]
  },
  {
   "cell_type": "code",
   "execution_count": null,
   "id": "51f2364e",
   "metadata": {},
   "outputs": [],
   "source": [
    "#Tuning Your Strategy\n",
    "\n",
    "from tensortrade.environments import TradingEnvironment\n",
    "from tensortrade.exchanges.simulated import FBMExchange\n",
    "exchange = FBMExchange(timeframe='1h',\n",
    "                       base_instrument='BTC',\n",
    "                       feature_pipeline=feature_pipeline)\n",
    "environment = TradingEnvironment(exchange=exchange,\n",
    "                                 action_scheme=action_scheme,\n",
    "                                 reward_scheme=reward_scheme)\n",
    "strategy.environment = environment\n",
    "tuned_performance = strategy.tune(episodes=10)"
   ]
  },
  {
   "cell_type": "code",
   "execution_count": null,
   "id": "0d6988ac",
   "metadata": {},
   "outputs": [],
   "source": [
    "#Strategy Evaluation\n",
    "\n",
    "from pandas import pd\n",
    "from tensortrade.environments import TradingEnvironment\n",
    "from tensortrade.exchanges.simulated import SimulatedExchange\n",
    "df = pd.read_csv('./btc_ohlcv_1h.csv')\n",
    "exchange = SimulatedExchange(data_frame=df, \n",
    "                             base_instrument='BTC',\n",
    "                             feature_pipeline=feature_pipeline)\n",
    "environment = TradingEnvironment(exchange=exchange,\n",
    "                                 action_scheme=action_scheme,\n",
    "                                 reward_scheme=reward_scheme)\n",
    "strategy.environment = environment\n",
    "test_performance = strategy.run(episodes=1, testing=True)"
   ]
  },
  {
   "cell_type": "code",
   "execution_count": null,
   "id": "320a46d6",
   "metadata": {},
   "outputs": [],
   "source": []
  },
  {
   "cell_type": "code",
   "execution_count": null,
   "id": "1c3ec0e6",
   "metadata": {},
   "outputs": [],
   "source": []
  },
  {
   "cell_type": "code",
   "execution_count": null,
   "id": "fb277da9",
   "metadata": {},
   "outputs": [],
   "source": []
  }
 ],
 "metadata": {
  "kernelspec": {
   "display_name": "Python 3 (ipykernel)",
   "language": "python",
   "name": "python3"
  },
  "language_info": {
   "codemirror_mode": {
    "name": "ipython",
    "version": 3
   },
   "file_extension": ".py",
   "mimetype": "text/x-python",
   "name": "python",
   "nbconvert_exporter": "python",
   "pygments_lexer": "ipython3",
   "version": "3.9.12"
  }
 },
 "nbformat": 4,
 "nbformat_minor": 5
}
